{
 "cells": [
  {
   "cell_type": "code",
   "execution_count": 13,
   "metadata": {},
   "outputs": [
    {
     "name": "stdout",
     "output_type": "stream",
     "text": [
      "Collecting git+ssh://****@github.com/devciscode/pipcyware.git\n",
      "  Cloning ssh://****@github.com/devciscode/pipcyware.git to /private/var/folders/tk/x47r8rpd7lg9l6w210r07_gw0000gp/T/pip-req-build-ftsy8pwn\n",
      "  Running command git clone --filter=blob:none --quiet 'ssh://****@github.com/devciscode/pipcyware.git' /private/var/folders/tk/x47r8rpd7lg9l6w210r07_gw0000gp/T/pip-req-build-ftsy8pwn\n",
      "  Resolved ssh://****@github.com/devciscode/pipcyware.git to commit 876d3cfa0c919af669dfce4d13976a4300ee9b80\n",
      "  Preparing metadata (setup.py) ... \u001b[?25ldone\n",
      "\u001b[?25hBuilding wheels for collected packages: pipcyware\n",
      "  Building wheel for pipcyware (setup.py) ... \u001b[?25ldone\n",
      "\u001b[?25h  Created wheel for pipcyware: filename=pipcyware-1.0-py3-none-any.whl size=2085 sha256=4d46f2a0e5ee28f91e2afb5f4a04f12bf54d0d8a74863a73e8118e12ba324555\n",
      "  Stored in directory: /private/var/folders/tk/x47r8rpd7lg9l6w210r07_gw0000gp/T/pip-ephem-wheel-cache-rhvvjd67/wheels/b6/39/ca/beea15e5c229b143987094062121cbbb69394aab9116d5dfb0\n",
      "Successfully built pipcyware\n",
      "Installing collected packages: pipcyware\n",
      "  Attempting uninstall: pipcyware\n",
      "    Found existing installation: pipcyware 0.0.1\n",
      "    Uninstalling pipcyware-0.0.1:\n",
      "      Successfully uninstalled pipcyware-0.0.1\n",
      "Successfully installed pipcyware-1.0\n",
      "\n",
      "\u001b[1m[\u001b[0m\u001b[34;49mnotice\u001b[0m\u001b[1;39;49m]\u001b[0m\u001b[39;49m A new release of pip available: \u001b[0m\u001b[31;49m22.3.1\u001b[0m\u001b[39;49m -> \u001b[0m\u001b[32;49m23.0.1\u001b[0m\n",
      "\u001b[1m[\u001b[0m\u001b[34;49mnotice\u001b[0m\u001b[1;39;49m]\u001b[0m\u001b[39;49m To update, run: \u001b[0m\u001b[32;49mpip install --upgrade pip\u001b[0m\n"
     ]
    }
   ],
   "source": [
    "!pip install git+ssh://git@github.com/devciscode/pipcyware.git\n",
    "\n",
    "\n",
    "# using in requirments file e.g. git+ssh://git@github.com/devciscode/pipcyware.git"
   ]
  },
  {
   "cell_type": "code",
   "execution_count": 11,
   "metadata": {},
   "outputs": [],
   "source": [
    "import pipcyware as cy\n"
   ]
  },
  {
   "cell_type": "code",
   "execution_count": 12,
   "metadata": {},
   "outputs": [
    {
     "name": "stdout",
     "output_type": "stream",
     "text": [
      "It works!\n"
     ]
    }
   ],
   "source": [
    "cy.my_cool_test_method()"
   ]
  },
  {
   "cell_type": "code",
   "execution_count": null,
   "metadata": {},
   "outputs": [],
   "source": []
  }
 ],
 "metadata": {
  "kernelspec": {
   "display_name": "base",
   "language": "python",
   "name": "python3"
  },
  "language_info": {
   "codemirror_mode": {
    "name": "ipython",
    "version": 3
   },
   "file_extension": ".py",
   "mimetype": "text/x-python",
   "name": "python",
   "nbconvert_exporter": "python",
   "pygments_lexer": "ipython3",
   "version": "3.9.13"
  },
  "orig_nbformat": 4,
  "vscode": {
   "interpreter": {
    "hash": "70ee03c0e922d6cfd51870f09a6d7dd6a111a743ae36c579c22e28cb8270761d"
   }
  }
 },
 "nbformat": 4,
 "nbformat_minor": 2
}
